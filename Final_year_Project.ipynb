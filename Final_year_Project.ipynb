{
  "cells": [
    {
      "cell_type": "markdown",
      "metadata": {
        "id": "view-in-github",
        "colab_type": "text"
      },
      "source": [
        "<a href=\"https://colab.research.google.com/github/pravin-pk/Contactless-Payment-Server/blob/main/Final_year_Project.ipynb\" target=\"_parent\"><img src=\"https://colab.research.google.com/assets/colab-badge.svg\" alt=\"Open In Colab\"/></a>"
      ]
    },
    {
      "cell_type": "code",
      "execution_count": null,
      "metadata": {
        "id": "NfSTP8j3A6qv"
      },
      "outputs": [],
      "source": [
        "# import tensorflow as tf\n",
        "# import numpy as np"
      ]
    },
    {
      "cell_type": "code",
      "execution_count": null,
      "metadata": {
        "id": "AQ7yAujQBE99"
      },
      "outputs": [],
      "source": [
        "# (x_train, _), (x_test, _) = tf.keras.datasets.mnist.load_data()"
      ]
    },
    {
      "cell_type": "code",
      "execution_count": null,
      "metadata": {
        "id": "1KeqL__MBqau"
      },
      "outputs": [],
      "source": [
        "# x_train = x_train.astype('float32') / 255.\n",
        "# x_test = x_test.astype('float32') / 255.\n",
        "# x_train = x_train.reshape((len(x_train), np.prod(x_train.shape[1:])))\n",
        "# x_test = x_test.reshape((len(x_test), np.prod(x_test.shape[1:])))\n",
        "# print(x_train.shape)\n",
        "# print(x_test.shape)"
      ]
    },
    {
      "cell_type": "code",
      "execution_count": null,
      "metadata": {
        "id": "dri-A7XPMQCy"
      },
      "outputs": [],
      "source": [
        "# model = tf.keras.models.Sequential([\n",
        "# #  tf.keras.layers.Flatten(input_shape=(28,28)),\n",
        "#  tf.keras.layers.Dense(784, activation='relu',input_shape=(784,)),\n",
        "#  tf.keras.layers.Dense(256, activation='relu'),\n",
        "# #  tf.keras.layers.Dropout(0.2),\n",
        "#  tf.keras.layers.Dense(128, activation='relu'),\n",
        "#  tf.keras.layers.Dense(32, activation='relu'),\n",
        "#  tf.keras.layers.Dense(8)\n",
        "# ])"
      ]
    },
    {
      "cell_type": "code",
      "execution_count": null,
      "metadata": {
        "id": "8zIiyyR1OJLF"
      },
      "outputs": [],
      "source": [
        "# model.compile(optimizer='adam', loss='binary_crossentropy')"
      ]
    },
    {
      "cell_type": "code",
      "execution_count": null,
      "metadata": {
        "id": "NrgtL7fdod-r"
      },
      "outputs": [],
      "source": [
        "# model.summary()"
      ]
    },
    {
      "cell_type": "code",
      "execution_count": null,
      "metadata": {
        "id": "iW8z_xfLOZvu"
      },
      "outputs": [],
      "source": [
        "# model.fit(x_train, x_train, epochs=10)\n"
      ]
    },
    {
      "cell_type": "markdown",
      "metadata": {
        "id": "3ZL24K33tIyP"
      },
      "source": [
        "------"
      ]
    },
    {
      "cell_type": "code",
      "execution_count": null,
      "metadata": {
        "id": "_6Nl0b3EK7rU"
      },
      "outputs": [],
      "source": [
        "# !pip install tensorflow==2.10.0"
      ]
    },
    {
      "cell_type": "markdown",
      "metadata": {
        "id": "RbZb2ArCB4qk"
      },
      "source": [
        "-----"
      ]
    },
    {
      "cell_type": "code",
      "execution_count": null,
      "metadata": {
        "id": "9bvGj1Dkv4wj"
      },
      "outputs": [],
      "source": [
        "import tensorflow as tf"
      ]
    },
    {
      "cell_type": "code",
      "execution_count": null,
      "metadata": {
        "colab": {
          "base_uri": "https://localhost:8080/",
          "height": 36
        },
        "id": "A2_4H8mBwunZ",
        "outputId": "2df43e08-cc41-4648-c421-e1efdc01c3eb"
      },
      "outputs": [
        {
          "output_type": "execute_result",
          "data": {
            "text/plain": [
              "'2.12.0'"
            ],
            "application/vnd.google.colaboratory.intrinsic+json": {
              "type": "string"
            }
          },
          "metadata": {},
          "execution_count": 2
        }
      ],
      "source": [
        "tf.__version__"
      ]
    },
    {
      "cell_type": "code",
      "execution_count": null,
      "metadata": {
        "colab": {
          "base_uri": "https://localhost:8080/"
        },
        "id": "L9IZsx8Grfpw",
        "outputId": "95a2f8ff-3dfe-4652-de95-ab5aa3250100"
      },
      "outputs": [
        {
          "output_type": "stream",
          "name": "stdout",
          "text": [
            "Mounted at /content/drive\n"
          ]
        }
      ],
      "source": [
        "from google.colab import drive\n",
        "drive.mount('/content/drive')"
      ]
    },
    {
      "cell_type": "code",
      "execution_count": null,
      "metadata": {
        "id": "JoO5wwwIClE4"
      },
      "outputs": [],
      "source": [
        "# !rm -rf 'ROI'"
      ]
    },
    {
      "cell_type": "code",
      "execution_count": null,
      "metadata": {
        "id": "B1aUtCroJnPQ"
      },
      "outputs": [],
      "source": [
        "from zipfile import ZipFile\n",
        "# PUT YOUR LOCAL FILE PATH HERE\n",
        "with ZipFile('./drive/MyDrive/Final Year Project/Datasets/ROI.zip', 'r') as zipObj:\n",
        "   # Extract a specific file from zip file\n",
        "   zipObj.extractall('./')"
      ]
    },
    {
      "cell_type": "code",
      "execution_count": null,
      "metadata": {
        "id": "OtyqpSZyB-T4"
      },
      "outputs": [],
      "source": [
        "# image_generator = ImageDataGenerator(rescale=1.0/255)"
      ]
    },
    {
      "cell_type": "code",
      "execution_count": null,
      "metadata": {
        "id": "MrA8otq9FBuh"
      },
      "outputs": [],
      "source": [
        "# palm_train = image_generator.flow_from_directory('./IITD_dataset/', class_mode='sparse')"
      ]
    },
    {
      "cell_type": "code",
      "execution_count": null,
      "metadata": {
        "id": "dIXcAsRWR6Wh"
      },
      "outputs": [],
      "source": [
        "# import numpy as np\n",
        "# from PIL import Image\n",
        "# import glob\n",
        "\n",
        "# images = []\n",
        "# for file in glob.glob('./Segmented/Right/*.JPG'):\n",
        "#     image = Image.open(file).convert('L')\n",
        "#     numpy_array = np.array(image)\n",
        "#     images.append(numpy_array)\n",
        "# for file in glob.glob('./Segmented/Left/*.JPG'):\n",
        "#     image = Image.open(file).convert('L')\n",
        "#     numpy_array = np.array(image)\n",
        "#     images.append(numpy_array)\n",
        "\n",
        "# palm_arrays = np.array(images)"
      ]
    },
    {
      "cell_type": "code",
      "execution_count": null,
      "metadata": {
        "id": "mO4AC4hWcL-i"
      },
      "outputs": [],
      "source": [
        "import os\n",
        "import shutil\n",
        "import re\n",
        "\n",
        "# Source and destination directories\n",
        "dest_dir = './ROI/allImages/'\n",
        "os.makedirs(dest_dir)\n",
        "\n",
        "# Regex pattern to match specific files\n",
        "pattern = re.compile(r'\\d{3}_\\d\\.JPG')\n",
        "\n",
        "# Loop through files in source directory\n",
        "for file in os.listdir('./ROI/Right/'):\n",
        "    # Check if file matches pattern\n",
        "    if pattern.match(file):\n",
        "        # Move file to destination directory\n",
        "        shutil.copy(os.path.join('./ROI/Right/', file), os.path.join(dest_dir,f'Right_{file}'))\n",
        "\n",
        "# Loop through files in source directory\n",
        "for file in os.listdir('./ROI/Left/'):\n",
        "    # Check if file matches pattern\n",
        "    if pattern.match(file):\n",
        "        # Move file to destination directory\n",
        "        shutil.copy(os.path.join('./ROI/Left/', file), os.path.join(dest_dir,f'Left_{file}'))"
      ]
    },
    {
      "cell_type": "code",
      "execution_count": null,
      "metadata": {
        "id": "TxedaQ8Q8M3p"
      },
      "outputs": [],
      "source": [
        "import cv2\n",
        "import os\n",
        "import matplotlib.pyplot as plt\n",
        "import numpy as np\n",
        "%matplotlib inline\n",
        "\n",
        "# Initialize list to store images\n",
        "images = []\n",
        "\n",
        "# for filename in os.listdir(\"./ROI/Left/\"):\n",
        "#     # Read image\n",
        "#     img = cv2.imread(os.path.join(\"./ROI/Left/\",filename), 0)\n",
        "    \n",
        "#     # Append image to list\n",
        "#     images.append(img)\n",
        "# for filename in os.listdir(\"./ROI/Right/\"):\n",
        "#     # Read image\n",
        "#     img = cv2.imread(os.path.join(\"./ROI/Right/\",filename), 0)\n",
        "    \n",
        "#     # Append image to list\n",
        "#     images.append(img)\n",
        "\n",
        "\n",
        "# Loop through images in directory\n",
        "filenames = []\n",
        "for filename in os.listdir(\"./ROI/allImages/\"):\n",
        "    filenames.append(filename)\n",
        "    # Read image\n",
        "    img = cv2.imread(os.path.join(\"./ROI/allImages/\",filename), 0)\n",
        "    \n",
        "    # Append image to list\n",
        "    images.append(img)\n",
        "\n",
        "palm_arrays = np.array(images)"
      ]
    },
    {
      "cell_type": "code",
      "execution_count": null,
      "metadata": {
        "colab": {
          "base_uri": "https://localhost:8080/"
        },
        "id": "xOsGVNP_d1h0",
        "outputId": "6950c718-1258-4c06-8898-e9e057747eca"
      },
      "outputs": [
        {
          "data": {
            "text/plain": [
              "(2601, 150, 150)"
            ]
          },
          "execution_count": 11,
          "metadata": {},
          "output_type": "execute_result"
        }
      ],
      "source": [
        "palm_arrays.shape"
      ]
    },
    {
      "cell_type": "code",
      "execution_count": null,
      "metadata": {
        "colab": {
          "base_uri": "https://localhost:8080/"
        },
        "id": "zvhF6smKUzj_",
        "outputId": "2201b411-d9bb-454c-aa46-465476dd534b"
      },
      "outputs": [
        {
          "name": "stdout",
          "output_type": "stream",
          "text": [
            "(2400, 150, 150)\n",
            "(201, 150, 150)\n"
          ]
        }
      ],
      "source": [
        "x_train = palm_arrays[:2400]\n",
        "x_test = palm_arrays[2400:]\n",
        "print(x_train.shape)\n",
        "print(x_test.shape)"
      ]
    },
    {
      "cell_type": "code",
      "execution_count": null,
      "metadata": {
        "colab": {
          "base_uri": "https://localhost:8080/",
          "height": 451
        },
        "id": "kz_56yuo7t62",
        "outputId": "b43b3a68-7005-4ddf-f1df-8f6e44eb5e6d"
      },
      "outputs": [
        {
          "data": {
            "text/plain": [
              "<matplotlib.image.AxesImage at 0x7fe8fc82a520>"
            ]
          },
          "execution_count": 13,
          "metadata": {},
          "output_type": "execute_result"
        },
        {
          "data": {
            "image/png": "[encoded data removed]",
            "text/plain": [
              "<Figure size 640x480 with 1 Axes>"
            ]
          },
          "metadata": {},
          "output_type": "display_data"
        }
      ],
      "source": [
        "plt.imshow(x_train[0], cmap='gray')"
      ]
    },
    {
      "cell_type": "code",
      "execution_count": null,
      "metadata": {
        "colab": {
          "base_uri": "https://localhost:8080/",
          "height": 451
        },
        "id": "blTV-Hjy7CEh",
        "outputId": "9161fcb9-66e5-4029-b221-2fab833f43b9"
      },
      "outputs": [
        {
          "data": {
            "text/plain": [
              "<matplotlib.image.AxesImage at 0x7fe8f6698100>"
            ]
          },
          "execution_count": 14,
          "metadata": {},
          "output_type": "execute_result"
        },
        {
          "data": {
            "image/png": "[encoded data removed]",
            "text/plain": [
              "<Figure size 640x480 with 1 Axes>"
            ]
          },
          "metadata": {},
          "output_type": "display_data"
        }
      ],
      "source": [
        "import cv2\n",
        "plt.imshow(cv2.cvtColor(x_train[0], cv2.COLOR_BGR2RGB))"
      ]
    },
    {
      "cell_type": "code",
      "execution_count": null,
      "metadata": {
        "colab": {
          "base_uri": "https://localhost:8080/"
        },
        "id": "LMOPw8QnVLBi",
        "outputId": "0a676790-7824-48c3-a0f1-e5d241c41c29"
      },
      "outputs": [
        {
          "name": "stdout",
          "output_type": "stream",
          "text": [
            "(2400, 150, 150, 1)\n",
            "(201, 150, 150, 1)\n"
          ]
        }
      ],
      "source": [
        "x_train = x_train.astype('float32') / 255.\n",
        "x_test = x_test.astype('float32') / 255.\n",
        "# x_train = x_train.reshape((len(x_train), np.prod(x_train.shape[1:])))\n",
        "# x_test = x_test.reshape((len(x_test), np.prod(x_test.shape[1:])))\n",
        "x_train = x_train.reshape(-1, 150, 150, 1)\n",
        "x_test = x_test.reshape(-1, 150, 150, 1)\n",
        "print(x_train.shape)\n",
        "print(x_test.shape)"
      ]
    },
    {
      "cell_type": "code",
      "execution_count": null,
      "metadata": {
        "id": "W10ZIJ6wHHqE"
      },
      "outputs": [],
      "source": [
        "import tensorflow as tf\n",
        "from tensorflow import keras\n",
        "\n",
        "input_img = keras.Input(shape=(150,150,1)) # shape = (width, height, channels)\n",
        "encoded = keras.layers.Conv2D(7, (3,3), activation='relu', padding='same')(input_img)\n",
        "encoded = keras.layers.MaxPooling2D((2,2))(encoded)\n",
        "encoded = keras.layers.Conv2D(9, (3,3), activation='relu', padding='same')(encoded)\n",
        "encoded = keras.layers.MaxPooling2D((3,3))(encoded)\n",
        "# encoded = keras.layers.Conv2D(1, (3,3), activation='relu', padding='same')(encoded)\n",
        "encoded = keras.layers.Flatten()(encoded)\n",
        "encoded = keras.layers.Dropout(0.3)(encoded)\n",
        "encoded = keras.layers.Dense(24*24, activation='relu')(encoded)\n",
        "encoded = keras.layers.Dense(256, activation='relu')(encoded)\n",
        "# encoded = keras.layers.Dense(64, activation='relu')(encoded)\n",
        "encoded = keras.layers.Dense(32, activation='relu')(encoded)\n",
        "\n",
        "decoded_dense0 = keras.layers.Dense(32, activation='relu')(encoded)\n",
        "# decoded_dense1 = keras.layers.Dense(64, activation='relu')(decoded_dense0)\n",
        "decoded_dense2 = keras.layers.Dense(256, activation='relu')(decoded_dense0)\n",
        "decoded_dense3 = keras.layers.Dense(25*25, activation='relu')(decoded_dense2)\n",
        "decoded_reshaped = keras.layers.Reshape((25,25,1))(decoded_dense3)\n",
        "decoded_conv0 = keras.layers.Conv2D(9, (3,3), activation='relu', padding='same')(decoded_reshaped)\n",
        "decoded_upSample0 = keras.layers.UpSampling2D((3,3))(decoded_conv0)\n",
        "decoded_conv1 = keras.layers.Conv2D(7, (3,3), activation='relu', padding='same')(decoded_upSample0)\n",
        "decoded_upSample1 = keras.layers.UpSampling2D((2,2))(decoded_conv1)\n",
        "decoded = keras.layers.Conv2D(1, (3,3), activation='relu', padding='same')(decoded_upSample1)\n",
        "\n",
        "\n",
        "autoencoder = keras.Model(input_img, decoded)"
      ]
    },
    {
      "cell_type": "code",
      "execution_count": null,
      "metadata": {
        "id": "Zazy6QF8QvHA"
      },
      "outputs": [],
      "source": [
        "# Encoder Model\n",
        "encoder = keras.Model(input_img, encoded)"
      ]
    },
    {
      "cell_type": "code",
      "execution_count": null,
      "metadata": {
        "id": "asVJl-w1AueC"
      },
      "outputs": [],
      "source": [
        "# Decoder Model\n",
        "# encoded_inputs = keras.Input(shape=(64,))\n",
        "# decoded_layers = decoded[-8]\n",
        "\n",
        "# decoder = keras.Model(encoded_inputs, decoded_layers)"
      ]
    },
    {
      "cell_type": "code",
      "execution_count": null,
      "metadata": {
        "colab": {
          "base_uri": "https://localhost:8080/"
        },
        "id": "R4xEcuMdtL16",
        "outputId": "bd7c4780-23b0-4e06-cd28-1ebc8046f76f"
      },
      "outputs": [
        {
          "data": {
            "text/plain": [
              "[<keras.engine.input_layer.InputLayer at 0x7fe8f4da9b80>,\n",
              " <keras.layers.convolutional.conv2d.Conv2D at 0x7fe8f4da9ac0>,\n",
              " <keras.layers.pooling.max_pooling2d.MaxPooling2D at 0x7fe8f4db1a30>,\n",
              " <keras.layers.convolutional.conv2d.Conv2D at 0x7fe8f4db31c0>,\n",
              " <keras.layers.pooling.max_pooling2d.MaxPooling2D at 0x7fe8f4db1970>,\n",
              " <keras.layers.reshaping.flatten.Flatten at 0x7fe8f4db1640>,\n",
              " <keras.layers.regularization.dropout.Dropout at 0x7fe8e456c820>,\n",
              " <keras.layers.core.dense.Dense at 0x7fe8e456cdc0>,\n",
              " <keras.layers.core.dense.Dense at 0x7fe8f4e1d610>,\n",
              " <keras.layers.core.dense.Dense at 0x7fe8e456fe50>]"
            ]
          },
          "execution_count": 19,
          "metadata": {},
          "output_type": "execute_result"
        }
      ],
      "source": [
        "encoder.layers"
      ]
    },
    {
      "cell_type": "code",
      "execution_count": null,
      "metadata": {
        "id": "P8N_Vzx5PRBB"
      },
      "outputs": [],
      "source": [
        "# encoder.compile(optimizer='adam', loss=tf.keras.losses.mae)"
      ]
    },
    {
      "cell_type": "code",
      "execution_count": null,
      "metadata": {
        "id": "BQU_zqEfQv_j"
      },
      "outputs": [],
      "source": [
        "autoencoder.compile(optimizer='adam', loss=tf.keras.losses.binary_crossentropy)"
      ]
    },
    {
      "cell_type": "code",
      "execution_count": null,
      "metadata": {
        "colab": {
          "base_uri": "https://localhost:8080/"
        },
        "id": "D5ol9PHzQzOi",
        "outputId": "7e263ca5-1035-440b-b7c8-88a72257bdc1"
      },
      "outputs": [
        {
          "name": "stdout",
          "output_type": "stream",
          "text": [
            "Model: \"model\"\n",
            "_________________________________________________________________\n",
            " Layer (type)                Output Shape              Param #   \n",
            "=================================================================\n",
            " input_1 (InputLayer)        [(None, 150, 150, 1)]     0         \n",
            "                                                                 \n",
            " conv2d (Conv2D)             (None, 150, 150, 7)       70        \n",
            "                                                                 \n",
            " max_pooling2d (MaxPooling2D  (None, 75, 75, 7)        0         \n",
            " )                                                               \n",
            "                                                                 \n",
            " conv2d_1 (Conv2D)           (None, 75, 75, 9)         576       \n",
            "                                                                 \n",
            " max_pooling2d_1 (MaxPooling  (None, 25, 25, 9)        0         \n",
            " 2D)                                                             \n",
            "                                                                 \n",
            " flatten (Flatten)           (None, 5625)              0         \n",
            "                                                                 \n",
            " dropout (Dropout)           (None, 5625)              0         \n",
            "                                                                 \n",
            " dense (Dense)               (None, 576)               3240576   \n",
            "                                                                 \n",
            " dense_1 (Dense)             (None, 256)               147712    \n",
            "                                                                 \n",
            " dense_2 (Dense)             (None, 32)                8224      \n",
            "                                                                 \n",
            " dense_3 (Dense)             (None, 32)                1056      \n",
            "                                                                 \n",
            " dense_4 (Dense)             (None, 256)               8448      \n",
            "                                                                 \n",
            " dense_5 (Dense)             (None, 625)               160625    \n",
            "                                                                 \n",
            " reshape (Reshape)           (None, 25, 25, 1)         0         \n",
            "                                                                 \n",
            " conv2d_2 (Conv2D)           (None, 25, 25, 9)         90        \n",
            "                                                                 \n",
            " up_sampling2d (UpSampling2D  (None, 75, 75, 9)        0         \n",
            " )                                                               \n",
            "                                                                 \n",
            " conv2d_3 (Conv2D)           (None, 75, 75, 7)         574       \n",
            "                                                                 \n",
            " up_sampling2d_1 (UpSampling  (None, 150, 150, 7)      0         \n",
            " 2D)                                                             \n",
            "                                                                 \n",
            " conv2d_4 (Conv2D)           (None, 150, 150, 1)       64        \n",
            "                                                                 \n",
            "=================================================================\n",
            "Total params: 3,568,015\n",
            "Trainable params: 3,568,015\n",
            "Non-trainable params: 0\n",
            "_________________________________________________________________\n"
          ]
        }
      ],
      "source": [
        "autoencoder.summary()"
      ]
    },
    {
      "cell_type": "code",
      "execution_count": null,
      "metadata": {
        "colab": {
          "background_save": true,
          "base_uri": "https://localhost:8080/"
        },
        "id": "YJCyc90lQ1E_",
        "outputId": "e36d5b63-c799-4f76-ee89-e779bc35b580"
      },
      "outputs": [
        {
          "name": "stdout",
          "output_type": "stream",
          "text": [
            "Epoch 1/10\n",
            "75/75 [==============================] - 93s 1s/step - loss: 1.2562 - val_loss: 0.6921\n",
            "Epoch 2/10\n",
            "75/75 [==============================] - 82s 1s/step - loss: 0.6751 - val_loss: 0.6402\n",
            "Epoch 3/10\n",
            "75/75 [==============================] - 79s 1s/step - loss: 0.6302 - val_loss: 0.6239\n",
            "Epoch 4/10\n",
            "75/75 [==============================] - 80s 1s/step - loss: 0.6140 - val_loss: 0.6284\n",
            "Epoch 5/10\n",
            "75/75 [==============================] - 81s 1s/step - loss: 0.6046 - val_loss: 0.5970\n",
            "Epoch 6/10\n",
            "75/75 [==============================] - 82s 1s/step - loss: 0.5955 - val_loss: 0.5916\n",
            "Epoch 7/10\n",
            "75/75 [==============================] - 79s 1s/step - loss: 0.5934 - val_loss: 0.5888\n",
            "Epoch 8/10\n",
            "75/75 [==============================] - 76s 1s/step - loss: 0.5866 - val_loss: 0.5845\n",
            "Epoch 9/10\n",
            "75/75 [==============================] - 79s 1s/step - loss: 0.5838 - val_loss: 0.5835\n",
            "Epoch 10/10\n",
            "75/75 [==============================] - 78s 1s/step - loss: 0.5824 - val_loss: 0.5811\n"
          ]
        },
        {
          "data": {
            "text/plain": [
              "<keras.callbacks.History at 0x7fe8e451d970>"
            ]
          },
          "execution_count": 23,
          "metadata": {},
          "output_type": "execute_result"
        }
      ],
      "source": [
        "autoencoder.fit(x_train, x_train, epochs=10, shuffle=True, validation_data=(x_test,x_test))"
      ]
    },
    {
      "cell_type": "code",
      "execution_count": null,
      "metadata": {
        "id": "kIKOc9SocNoV"
      },
      "outputs": [],
      "source": [
        "plt.plot(autoencoder.history.history['loss'])\n",
        "plt.plot(autoencoder.history.history['val_loss'])\n",
        "plt.title('Model Accuracy')\n",
        "plt.ylabel('loss')\n",
        "plt.xlabel('Epoch')\n",
        "plt.legend(['Train', 'Validation'], loc='upper left')\n",
        "plt.show()"
      ]
    },
    {
      "cell_type": "code",
      "execution_count": null,
      "metadata": {
        "id": "lbU8sKauXT0L"
      },
      "outputs": [],
      "source": [
        "encoded_palms = encoder.predict(x_test)"
      ]
    },
    {
      "cell_type": "code",
      "execution_count": null,
      "metadata": {
        "id": "K5nrtdS-atOm"
      },
      "outputs": [],
      "source": [
        "encoded_palms.shape"
      ]
    },
    {
      "cell_type": "code",
      "execution_count": null,
      "metadata": {
        "id": "-zRMvA3RaxBK"
      },
      "outputs": [],
      "source": [
        "encoded_palms[9]"
      ]
    },
    {
      "cell_type": "code",
      "execution_count": null,
      "metadata": {
        "id": "TA9g0emPdqD6"
      },
      "outputs": [],
      "source": [
        "encoder.save('savedModel/model/0000001')"
      ]
    },
    {
      "cell_type": "code",
      "execution_count": null,
      "metadata": {
        "id": "3QSsr3GKRIDI"
      },
      "outputs": [],
      "source": [
        "import tarfile\n",
        "import os\n",
        "\n",
        "def make_tarfile(output_filename, source_dir):\n",
        "    with tarfile.open(output_filename, \"w:gz\") as tar:\n",
        "        tar.add(source_dir, arcname=os.path.basename(source_dir))\n",
        "\n",
        "# make_tarfile(\"destination\", \"source\")\n",
        "# CHANGE THE DESTINATION LOCATION AND UPLOAD THE TAR FILE TO DRIVE\n",
        "make_tarfile(\"./drive/MyDrive/Final Year Project/Datasets/savedModel/model.tar.gz\", \"./savedModel/model/\")"
      ]
    },
    {
      "cell_type": "code",
      "execution_count": null,
      "metadata": {
        "id": "xtcbdbE48fZ4"
      },
      "outputs": [],
      "source": [
        "# !zip -r ./savedModel/palm_encoder.zip ./savedModel/encoder_conv_model"
      ]
    },
    {
      "cell_type": "code",
      "execution_count": null,
      "metadata": {
        "id": "Lxh0_ots9Af_"
      },
      "outputs": [],
      "source": [
        "# from google.colab import files\n",
        "# files.download(\"./savedModel/model.tar.gz\")"
      ]
    },
    {
      "cell_type": "code",
      "execution_count": null,
      "metadata": {
        "id": "GvlW07Sy-rrl"
      },
      "outputs": [],
      "source": []
    },
    {
      "cell_type": "code",
      "execution_count": null,
      "metadata": {
        "id": "WnxyHFbMhRnL"
      },
      "outputs": [],
      "source": [
        "img = cv2.imread('./ROI/Right/003_3.JPG', 0)\n",
        "palm = np.array(img.astype('float32')/255.0)\n",
        "\n",
        "normal = encoder.predict(palm.reshape(-1, 150, 150, 1))"
      ]
    },
    {
      "cell_type": "code",
      "execution_count": null,
      "metadata": {
        "id": "6tZNOSmBr-lz"
      },
      "outputs": [],
      "source": [
        "plt.imshow(palm, cmap='gray')\n",
        "print(normal)"
      ]
    },
    {
      "cell_type": "code",
      "execution_count": null,
      "metadata": {
        "id": "MHFS4EmCg7BW"
      },
      "outputs": [],
      "source": [
        "img = cv2.imread('./ROI/Right/008_3.JPG', 0)\n",
        "palm = np.array(img.astype('float32')/255.0)\n",
        "\n",
        "abnormal = encoder.predict(palm.reshape(-1, 150, 150, 1))"
      ]
    },
    {
      "cell_type": "code",
      "execution_count": null,
      "metadata": {
        "id": "Lz_yJnCCsigQ"
      },
      "outputs": [],
      "source": [
        "plt.imshow(palm, cmap='gray')\n",
        "print(normal)"
      ]
    },
    {
      "cell_type": "code",
      "execution_count": null,
      "metadata": {
        "id": "DxvbvZhshGtI"
      },
      "outputs": [],
      "source": [
        "np.mean(np.abs(normal - abnormal))"
      ]
    },
    {
      "cell_type": "code",
      "execution_count": null,
      "metadata": {
        "id": "l4WL7kMIr3zs"
      },
      "outputs": [],
      "source": [
        "fig, ax = plt.subplots(1,3)\n",
        "img = cv2.imread('./ROI/Left/005_2.JPG', 0)\n",
        "palm = np.array(img.astype('float32')/255.0)\n",
        "ax[0].imshow(palm, cmap='gray')\n",
        "ax[0].set_title(\"Original\")\n",
        "\n",
        "auto = autoencoder.predict(palm.reshape(-1, 150, 150, 1))\n",
        "# auto = decoder.predict(encoder.predict(palm.reshape(-1,150,150,1)))\n",
        "auto = auto.reshape(150,150)\n",
        "ax[1].imshow(auto, cmap='gray')\n",
        "ax[1].set_title(\"AutoEncoder Output\")\n",
        "\n",
        "encoded_img = encoder.predict(palm.reshape(-1, 150, 150, 1))\n",
        "encoded_img = encoded_img.reshape(4,8)\n",
        "ax[2].imshow(encoded_img, cmap='gray')\n",
        "ax[2].set_title(\"Encoder Output\")\n",
        "\n",
        "plt.show()"
      ]
    },
    {
      "cell_type": "code",
      "execution_count": null,
      "metadata": {
        "id": "IfXBJidS1IY9"
      },
      "outputs": [],
      "source": [
        "plt.imshow(auto, cmap='gray')"
      ]
    },
    {
      "cell_type": "code",
      "source": [],
      "metadata": {
        "id": "T65aFvRHPHKm"
      },
      "execution_count": null,
      "outputs": []
    },
    {
      "cell_type": "code",
      "execution_count": null,
      "metadata": {
        "id": "8Ym7wGBila2Y"
      },
      "outputs": [],
      "source": [
        "# img = x_test[80].reshape(-1, 150, 150, 1)\n",
        "# encoder.predict(img)"
      ]
    },
    {
      "cell_type": "markdown",
      "metadata": {
        "id": "5cMzk7emid18"
      },
      "source": [
        "---"
      ]
    },
    {
      "cell_type": "markdown",
      "source": [
        "## loading model and clustering the test ROI images"
      ],
      "metadata": {
        "id": "yiplu-3KaCTJ"
      }
    },
    {
      "cell_type": "code",
      "source": [
        "# !mkdir \"savedModel\"\n",
        "# !mkdir \"savedModel/model\""
      ],
      "metadata": {
        "id": "T27lMLckqhhL"
      },
      "execution_count": null,
      "outputs": []
    },
    {
      "cell_type": "code",
      "execution_count": null,
      "metadata": {
        "colab": {
          "base_uri": "https://localhost:8080/"
        },
        "id": "NnDAIOaMpk-r",
        "outputId": "d9dde867-d649-42d8-cb2f-76e28013bd65"
      },
      "outputs": [
        {
          "output_type": "stream",
          "name": "stdout",
          "text": [
            "tar: Removing leading `/' from member names\n",
            "/\n",
            "0000001/\n",
            "0000001/assets/\n",
            "0000001/keras_metadata.pb\n",
            "0000001/saved_model.pb\n",
            "0000001/variables/\n",
            "0000001/variables/variables.data-00000-of-00001\n",
            "0000001/variables/variables.index\n"
          ]
        }
      ],
      "source": [
        "!tar -xvzf \"./drive/MyDrive/Final Year Project/Datasets/savedModel/model_n.tar.gz\" -C \"savedModel/model/\""
      ]
    },
    {
      "cell_type": "code",
      "execution_count": null,
      "metadata": {
        "colab": {
          "base_uri": "https://localhost:8080/"
        },
        "id": "gS-3utwjkxyt",
        "outputId": "db17c8eb-436a-4670-d50d-59292150c3d1"
      },
      "outputs": [
        {
          "output_type": "stream",
          "name": "stderr",
          "text": [
            "WARNING:tensorflow:No training configuration found in save file, so the model was *not* compiled. Compile it manually.\n"
          ]
        }
      ],
      "source": [
        "model = tf.keras.models.load_model('savedModel/model/0000001')"
      ]
    },
    {
      "cell_type": "code",
      "execution_count": null,
      "metadata": {
        "colab": {
          "base_uri": "https://localhost:8080/",
          "height": 165
        },
        "id": "OSLDYkVI0v81",
        "outputId": "efa84730-c81c-4e8f-8105-fc6a71522ea9"
      },
      "outputs": [
        {
          "output_type": "error",
          "ename": "NameError",
          "evalue": "ignored",
          "traceback": [
            "\u001b[0;31m---------------------------------------------------------------------------\u001b[0m",
            "\u001b[0;31mNameError\u001b[0m                                 Traceback (most recent call last)",
            "\u001b[0;32m<ipython-input-8-b3bc8d4fae5d>\u001b[0m in \u001b[0;36m<cell line: 1>\u001b[0;34m()\u001b[0m\n\u001b[0;32m----> 1\u001b[0;31m \u001b[0mtests\u001b[0m \u001b[0;34m=\u001b[0m \u001b[0mmodel\u001b[0m\u001b[0;34m.\u001b[0m\u001b[0mpredict\u001b[0m\u001b[0;34m(\u001b[0m\u001b[0mx_test\u001b[0m\u001b[0;34m)\u001b[0m\u001b[0;34m\u001b[0m\u001b[0;34m\u001b[0m\u001b[0m\n\u001b[0m",
            "\u001b[0;31mNameError\u001b[0m: name 'x_test' is not defined"
          ]
        }
      ],
      "source": [
        "tests = model.predict(x_test)"
      ]
    },
    {
      "cell_type": "code",
      "execution_count": null,
      "metadata": {
        "colab": {
          "base_uri": "https://localhost:8080/"
        },
        "id": "AsPaTh4603Os",
        "outputId": "47c2a98a-c0de-4c0f-d68e-e309925f6ce4"
      },
      "outputs": [
        {
          "data": {
            "text/plain": [
              "(201, 32)"
            ]
          },
          "execution_count": 141,
          "metadata": {},
          "output_type": "execute_result"
        }
      ],
      "source": [
        "tests.shape"
      ]
    },
    {
      "cell_type": "code",
      "execution_count": null,
      "metadata": {
        "id": "B4thA4beLvWT"
      },
      "outputs": [],
      "source": [
        "# rm -rf testROI"
      ]
    },
    {
      "cell_type": "code",
      "execution_count": null,
      "metadata": {
        "id": "GTL8Z1xKH5ij"
      },
      "outputs": [],
      "source": [
        "from zipfile import ZipFile\n",
        "import os\n",
        "import cv2\n",
        "import numpy as np\n",
        "\n",
        "with ZipFile('./drive/MyDrive/Final Year Project/Datasets/testROI.zip', 'r') as zipObj:\n",
        "   # Extract a specific file from zip file\n",
        "   zipObj.extractall('./')\n",
        "\n",
        "testfilenames = []\n",
        "images = []\n",
        "for filename in sorted(os.listdir(\"./testROI\")):\n",
        "# for filename in (os.listdir(\"./testROI\")):\n",
        "    testfilenames.append(filename)\n",
        "    # Read image\n",
        "    img = cv2.imread(os.path.join(\"./testROI/\",filename), 0)\n",
        "    \n",
        "    # Append image to list\n",
        "    images.append(img)\n",
        "\n",
        "palm_arrays = np.array(images)"
      ]
    },
    {
      "cell_type": "code",
      "execution_count": null,
      "metadata": {
        "colab": {
          "base_uri": "https://localhost:8080/"
        },
        "id": "k6miPpv4JaQ6",
        "outputId": "bc0fd5d4-a7d3-41df-c02d-a71906e22cf8"
      },
      "outputs": [
        {
          "output_type": "stream",
          "name": "stdout",
          "text": [
            "(15, 150, 150, 1)\n"
          ]
        }
      ],
      "source": [
        "palm_arrays = palm_arrays.astype('float32') / 255.\n",
        "palm_arrays = palm_arrays.reshape(-1, 150, 150, 1)\n",
        "print(palm_arrays.shape)"
      ]
    },
    {
      "cell_type": "code",
      "execution_count": null,
      "metadata": {
        "colab": {
          "base_uri": "https://localhost:8080/"
        },
        "id": "mCtqRFiUN0Cz",
        "outputId": "bad85673-7569-45f5-a011-f66ee53e615d"
      },
      "outputs": [
        {
          "output_type": "stream",
          "name": "stdout",
          "text": [
            "1/1 [==============================] - 0s 324ms/step\n"
          ]
        }
      ],
      "source": [
        "tests = model.predict(palm_arrays)"
      ]
    },
    {
      "cell_type": "code",
      "execution_count": null,
      "metadata": {
        "colab": {
          "base_uri": "https://localhost:8080/"
        },
        "id": "ntm9PJBsJaNe",
        "outputId": "48bca110-ea93-4f16-9999-b5224db08836"
      },
      "outputs": [
        {
          "output_type": "execute_result",
          "data": {
            "text/plain": [
              "['004_1.JPG',\n",
              " '004_2.JPG',\n",
              " '004_3.JPG',\n",
              " '004_4.JPG',\n",
              " '004_5.JPG',\n",
              " '029_2.JPG',\n",
              " '029_3.JPG',\n",
              " '029_4.JPG',\n",
              " '029_5.JPG',\n",
              " '029_6.JPG',\n",
              " '056_1.JPG',\n",
              " '056_2.JPG',\n",
              " '056_3.JPG',\n",
              " '056_4.JPG',\n",
              " '056_5.JPG']"
            ]
          },
          "metadata": {},
          "execution_count": 35
        }
      ],
      "source": [
        "testfilenames"
      ]
    },
    {
      "cell_type": "code",
      "execution_count": null,
      "metadata": {
        "colab": {
          "base_uri": "https://localhost:8080/",
          "height": 74
        },
        "id": "1ugYpnaP0-f1",
        "outputId": "34b74b9d-d094-4ef8-a7dd-640fd3db9565"
      },
      "outputs": [
        {
          "output_type": "execute_result",
          "data": {
            "text/plain": [
              "KMeans(n_clusters=3, n_init=3)"
            ],
            "text/html": [
              "<style>#sk-container-id-6 {color: black;background-color: white;}#sk-container-id-6 pre{padding: 0;}#sk-container-id-6 div.sk-toggleable {background-color: white;}#sk-container-id-6 label.sk-toggleable__label {cursor: pointer;display: block;width: 100%;margin-bottom: 0;padding: 0.3em;box-sizing: border-box;text-align: center;}#sk-container-id-6 label.sk-toggleable__label-arrow:before {content: \"▸\";float: left;margin-right: 0.25em;color: #696969;}#sk-container-id-6 label.sk-toggleable__label-arrow:hover:before {color: black;}#sk-container-id-6 div.sk-estimator:hover label.sk-toggleable__label-arrow:before {color: black;}#sk-container-id-6 div.sk-toggleable__content {max-height: 0;max-width: 0;overflow: hidden;text-align: left;background-color: #f0f8ff;}#sk-container-id-6 div.sk-toggleable__content pre {margin: 0.2em;color: black;border-radius: 0.25em;background-color: #f0f8ff;}#sk-container-id-6 input.sk-toggleable__control:checked~div.sk-toggleable__content {max-height: 200px;max-width: 100%;overflow: auto;}#sk-container-id-6 input.sk-toggleable__control:checked~label.sk-toggleable__label-arrow:before {content: \"▾\";}#sk-container-id-6 div.sk-estimator input.sk-toggleable__control:checked~label.sk-toggleable__label {background-color: #d4ebff;}#sk-container-id-6 div.sk-label input.sk-toggleable__control:checked~label.sk-toggleable__label {background-color: #d4ebff;}#sk-container-id-6 input.sk-hidden--visually {border: 0;clip: rect(1px 1px 1px 1px);clip: rect(1px, 1px, 1px, 1px);height: 1px;margin: -1px;overflow: hidden;padding: 0;position: absolute;width: 1px;}#sk-container-id-6 div.sk-estimator {font-family: monospace;background-color: #f0f8ff;border: 1px dotted black;border-radius: 0.25em;box-sizing: border-box;margin-bottom: 0.5em;}#sk-container-id-6 div.sk-estimator:hover {background-color: #d4ebff;}#sk-container-id-6 div.sk-parallel-item::after {content: \"\";width: 100%;border-bottom: 1px solid gray;flex-grow: 1;}#sk-container-id-6 div.sk-label:hover label.sk-toggleable__label {background-color: #d4ebff;}#sk-container-id-6 div.sk-serial::before {content: \"\";position: absolute;border-left: 1px solid gray;box-sizing: border-box;top: 0;bottom: 0;left: 50%;z-index: 0;}#sk-container-id-6 div.sk-serial {display: flex;flex-direction: column;align-items: center;background-color: white;padding-right: 0.2em;padding-left: 0.2em;position: relative;}#sk-container-id-6 div.sk-item {position: relative;z-index: 1;}#sk-container-id-6 div.sk-parallel {display: flex;align-items: stretch;justify-content: center;background-color: white;position: relative;}#sk-container-id-6 div.sk-item::before, #sk-container-id-6 div.sk-parallel-item::before {content: \"\";position: absolute;border-left: 1px solid gray;box-sizing: border-box;top: 0;bottom: 0;left: 50%;z-index: -1;}#sk-container-id-6 div.sk-parallel-item {display: flex;flex-direction: column;z-index: 1;position: relative;background-color: white;}#sk-container-id-6 div.sk-parallel-item:first-child::after {align-self: flex-end;width: 50%;}#sk-container-id-6 div.sk-parallel-item:last-child::after {align-self: flex-start;width: 50%;}#sk-container-id-6 div.sk-parallel-item:only-child::after {width: 0;}#sk-container-id-6 div.sk-dashed-wrapped {border: 1px dashed gray;margin: 0 0.4em 0.5em 0.4em;box-sizing: border-box;padding-bottom: 0.4em;background-color: white;}#sk-container-id-6 div.sk-label label {font-family: monospace;font-weight: bold;display: inline-block;line-height: 1.2em;}#sk-container-id-6 div.sk-label-container {text-align: center;}#sk-container-id-6 div.sk-container {/* jupyter's `normalize.less` sets `[hidden] { display: none; }` but bootstrap.min.css set `[hidden] { display: none !important; }` so we also need the `!important` here to be able to override the default hidden behavior on the sphinx rendered scikit-learn.org. See: https://github.com/scikit-learn/scikit-learn/issues/21755 */display: inline-block !important;position: relative;}#sk-container-id-6 div.sk-text-repr-fallback {display: none;}</style><div id=\"sk-container-id-6\" class=\"sk-top-container\"><div class=\"sk-text-repr-fallback\"><pre>KMeans(n_clusters=3, n_init=3)</pre><b>In a Jupyter environment, please rerun this cell to show the HTML representation or trust the notebook. <br />On GitHub, the HTML representation is unable to render, please try loading this page with nbviewer.org.</b></div><div class=\"sk-container\" hidden><div class=\"sk-item\"><div class=\"sk-estimator sk-toggleable\"><input class=\"sk-toggleable__control sk-hidden--visually\" id=\"sk-estimator-id-6\" type=\"checkbox\" checked><label for=\"sk-estimator-id-6\" class=\"sk-toggleable__label sk-toggleable__label-arrow\">KMeans</label><div class=\"sk-toggleable__content\"><pre>KMeans(n_clusters=3, n_init=3)</pre></div></div></div></div></div>"
            ]
          },
          "metadata": {},
          "execution_count": 42
        }
      ],
      "source": [
        "from sklearn.cluster import KMeans\n",
        "\n",
        "kmeans = KMeans(n_clusters=3, n_init=3)\n",
        "kmeans.fit(tests)"
      ]
    },
    {
      "cell_type": "code",
      "execution_count": null,
      "metadata": {
        "colab": {
          "base_uri": "https://localhost:8080/"
        },
        "id": "3d1uTLGw17A5",
        "outputId": "d070f28d-6478-44c5-cc40-3db68c9a3f62"
      },
      "outputs": [
        {
          "output_type": "execute_result",
          "data": {
            "text/plain": [
              "array([1, 1, 1, 1, 1, 2, 2, 2, 1, 2, 0, 0, 0, 0, 0], dtype=int32)"
            ]
          },
          "metadata": {},
          "execution_count": 43
        }
      ],
      "source": [
        "kmeans.labels_"
      ]
    },
    {
      "cell_type": "code",
      "execution_count": null,
      "metadata": {
        "colab": {
          "base_uri": "https://localhost:8080/"
        },
        "id": "4NvWG40rmk5u",
        "outputId": "e2362db7-05cc-4077-b691-937472f981c2"
      },
      "outputs": [
        {
          "output_type": "stream",
          "name": "stdout",
          "text": [
            "image:  004_1.JPG , cluster:  1\n",
            "image:  004_2.JPG , cluster:  1\n",
            "image:  004_3.JPG , cluster:  1\n",
            "image:  004_4.JPG , cluster:  1\n",
            "image:  004_5.JPG , cluster:  1\n",
            "image:  029_2.JPG , cluster:  2\n",
            "image:  029_3.JPG , cluster:  2\n",
            "image:  029_4.JPG , cluster:  2\n",
            "image:  029_5.JPG , cluster:  1\n",
            "image:  029_6.JPG , cluster:  2\n",
            "image:  056_1.JPG , cluster:  0\n",
            "image:  056_2.JPG , cluster:  0\n",
            "image:  056_3.JPG , cluster:  0\n",
            "image:  056_4.JPG , cluster:  0\n",
            "image:  056_5.JPG , cluster:  0\n"
          ]
        }
      ],
      "source": [
        "for i in range(len(testfilenames)):\n",
        "  print(\"image: \", testfilenames[i], \", cluster: \", kmeans.labels_[i])"
      ]
    },
    {
      "cell_type": "code",
      "execution_count": null,
      "metadata": {
        "id": "lJwLDUIBqAB0"
      },
      "outputs": [],
      "source": []
    }
  ],
  "metadata": {
    "colab": {
      "provenance": [],
      "include_colab_link": true
    },
    "gpuClass": "standard",
    "kernelspec": {
      "display_name": "Python 3",
      "name": "python3"
    },
    "language_info": {
      "name": "python"
    }
  },
  "nbformat": 4,
  "nbformat_minor": 0
}
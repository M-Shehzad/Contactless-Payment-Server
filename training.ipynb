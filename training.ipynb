{
 "cells": [
  {
   "cell_type": "code",
   "execution_count": null,
   "metadata": {},
   "outputs": [],
   "source": [
    "import tensorflow as tf\n",
    "from tensorflow import keras\n",
    "from tensorflow.keras.preprocessing.image import ImageDataGenerator"
   ]
  },
  {
   "cell_type": "code",
   "execution_count": null,
   "metadata": {},
   "outputs": [],
   "source": [
    "import numpy as np\n",
    "from PIL import Image\n",
    "import glob\n",
    "\n",
    "images = []\n",
    "for file in glob.glob('./Segmented/Right/*.bmp'):\n",
    "    image = Image.open(file)\n",
    "    numpy_array = np.array(image)\n",
    "    images.append(numpy_array)\n",
    "for file in glob.glob('./Segmented/Left/*.bmp'):\n",
    "    image = Image.open(file)\n",
    "    numpy_array = np.array(image)\n",
    "    images.append(numpy_array)\n",
    "\n",
    "palm_arrays = np.array(images)"
   ]
  },
  {
   "cell_type": "code",
   "execution_count": null,
   "metadata": {},
   "outputs": [],
   "source": [
    "x_train = palm_arrays[:2000]\n",
    "x_test = palm_arrays[2000:]\n",
    "print(x_train.shape)\n",
    "print(x_test.shape)"
   ]
  },
  {
   "cell_type": "code",
   "execution_count": null,
   "metadata": {},
   "outputs": [],
   "source": [
    "# x_train = x_train.astype('float32') / 255.\n",
    "# x_test = x_test.astype('float32') / 255.\n",
    "# x_train = x_train.reshape((len(x_train), np.prod(x_train.shape[1:])))\n",
    "# x_test = x_test.reshape((len(x_test), np.prod(x_test.shape[1:])))\n",
    "x_train = x_train.reshape(-1, 150, 150, 1)\n",
    "x_test = x_test.reshape(-1, 150, 150, 1)\n",
    "print(x_train.shape)\n",
    "print(x_test.shape)"
   ]
  },
  {
   "cell_type": "code",
   "execution_count": null,
   "metadata": {},
   "outputs": [],
   "source": [
    "import tensorflow as tf\n",
    "from tensorflow import keras\n",
    "\n",
    "input_img = keras.Input(shape=(150,150,1)) # shape = (width, height, channels)\n",
    "encoded = keras.layers.Conv2D(64, (3,3), activation='relu', padding='valid')(input_img)\n",
    "encoded = keras.layers.MaxPooling2D((2,2))(encoded)\n",
    "encoded = keras.layers.Conv2D(128, (3,3), activation='relu', padding='same')(encoded)\n",
    "encoded = keras.layers.MaxPooling2D((3,3))(encoded)\n",
    "encoded = keras.layers.Conv2D(512, (3,3), activation='relu', padding='same')(encoded)\n",
    "encoded = keras.layers.Flatten()(encoded)\n",
    "encoded = keras.layers.Dense(24*24, activation='relu')(encoded)\n",
    "encoded = keras.layers.Dense(128, activation='relu')(encoded)\n",
    "encoded = keras.layers.Dense(64, activation='relu')(encoded)\n",
    "encoded = keras.layers.Dense(32, activation='relu')(encoded)\n",
    "\n",
    "decoded = keras.layers.Dense(32, activation='relu')(encoded)\n",
    "decoded = keras.layers.Dense(64, activation='relu')(encoded)\n",
    "decoded = keras.layers.Dense(128, activation='relu')(decoded)\n",
    "decoded = keras.layers.Dense(25*25, activation='relu')(decoded)\n",
    "decoded = keras.layers.Reshape((25,25,1))(decoded)\n",
    "decoded = keras.layers.Conv2D(512, (3,3), activation='relu', padding='same')(decoded)\n",
    "decoded = keras.layers.UpSampling2D((3,3))(decoded)\n",
    "decoded = keras.layers.Conv2D(128, (3,3), activation='relu', padding='same')(decoded)\n",
    "decoded = keras.layers.UpSampling2D((2,2))(decoded)\n",
    "\n",
    "\n",
    "autoencoder = keras.Model(input_img, decoded)"
   ]
  },
  {
   "cell_type": "code",
   "execution_count": null,
   "metadata": {},
   "outputs": [],
   "source": [
    "# Encoder Model\n",
    "encoder = keras.Model(input_img, encoded)"
   ]
  },
  {
   "cell_type": "code",
   "execution_count": null,
   "metadata": {},
   "outputs": [],
   "source": [
    "autoencoder.compile(optimizer='adam', loss=tf.keras.losses.mae)"
   ]
  },
  {
   "cell_type": "code",
   "execution_count": null,
   "metadata": {},
   "outputs": [],
   "source": [
    "autoencoder.summary()"
   ]
  },
  {
   "cell_type": "code",
   "execution_count": null,
   "metadata": {},
   "outputs": [],
   "source": [
    "autoencoder.fit(x_train, x_train, epochs=2, shuffle=True)"
   ]
  },
  {
   "cell_type": "code",
   "execution_count": null,
   "metadata": {},
   "outputs": [],
   "source": [
    "encoded_palms = encoder.predict(x_test)"
   ]
  },
  {
   "cell_type": "code",
   "execution_count": null,
   "metadata": {},
   "outputs": [],
   "source": [
    "encoded_palms = encoder.predict(x_test)"
   ]
  }
 ],
 "metadata": {
  "language_info": {
   "name": "python"
  },
  "orig_nbformat": 4
 },
 "nbformat": 4,
 "nbformat_minor": 2
}

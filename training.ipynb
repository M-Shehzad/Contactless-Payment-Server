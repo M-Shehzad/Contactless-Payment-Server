{
 "cells": [
  {
   "cell_type": "code",
   "execution_count": null,
   "metadata": {},
   "outputs": [],
   "source": [
    "import tensorflow as tf\n",
    "from tensorflow import keras\n",
    "from tensorflow.keras.preprocessing.image import ImageDataGenerator"
   ]
  },
  {
   "cell_type": "code",
   "execution_count": 2,
   "metadata": {},
   "outputs": [],
   "source": [
    "import numpy as np\n",
    "from PIL import Image\n",
    "import glob\n",
    "\n",
    "images = []\n",
    "for file in glob.glob('../../IITD Palmprint V1/Segmented/Left/*.bmp'): # Put the path to the dataset here\n",
    "    image = Image.open(file)\n",
    "    numpy_array = np.array(image)\n",
    "    images.append(numpy_array)\n",
    "for file in glob.glob('../../IITD Palmprint V1/Segmented/Right/*.bmp'): # Put the path to the dataset here\n",
    "    image = Image.open(file)\n",
    "    numpy_array = np.array(image)\n",
    "    images.append(numpy_array)\n",
    "\n",
    "palm_arrays = np.array(images)"
   ]
  },
  {
   "cell_type": "code",
   "execution_count": 3,
   "metadata": {},
   "outputs": [],
   "source": [
    "x_train = palm_arrays[:2000]\n",
    "x_test = palm_arrays[2000:]\n",
    "print(x_train.shape)\n",
    "print(x_test.shape)"
   ]
  },
  {
   "cell_type": "code",
   "execution_count": 4,
   "metadata": {},
   "outputs": [],
   "source": [
    "# x_train = x_train.astype('float32') / 255.\n",
    "# x_test = x_test.astype('float32') / 255.\n",
    "# x_train = x_train.reshape((len(x_train), np.prod(x_train.shape[1:])))\n",
    "# x_test = x_test.reshape((len(x_test), np.prod(x_test.shape[1:])))\n",
    "x_train = x_train.reshape(-1, 150, 150, 1)\n",
    "x_test = x_test.reshape(-1, 150, 150, 1)\n",
    "print(x_train.shape)\n",
    "print(x_test.shape)"
   ]
  },
  {
   "cell_type": "code",
   "execution_count": 5,
   "metadata": {},
   "outputs": [],
   "source": [
    "import tensorflow as tf\n",
    "from tensorflow import keras\n",
    "\n",
    "input_img = keras.Input(shape=(150,150,1)) # shape = (width, height, channels)\n",
    "encoded = keras.layers.Conv2D(16, (3,3), activation='relu', padding='same')(input_img)\n",
    "encoded = keras.layers.MaxPooling2D((2,2))(encoded)\n",
    "encoded = keras.layers.Conv2D(32, (3,3), activation='relu', padding='same')(encoded)\n",
    "encoded = keras.layers.MaxPooling2D((3,3))(encoded)\n",
    "# encoded = keras.layers.Conv2D(1, (3,3), activation='relu', padding='same')(encoded)\n",
    "encoded = keras.layers.Flatten()(encoded)\n",
    "encoded = keras.layers.Dropout(0.3)(encoded)\n",
    "# encoded = keras.layers.Dense(24*24, activation='relu')(encoded)\n",
    "encoded = keras.layers.Dense(256, activation='relu')(encoded)\n",
    "encoded = keras.layers.Dense(64, activation='relu')(encoded)\n",
    "# encoded = keras.layers.Dense(32, activation='relu')(encoded)\n",
    "\n",
    "# decoded = keras.layers.Dense(32, activation='relu')(encoded)\n",
    "decoded_dense1 = keras.layers.Dense(64, activation='relu')(encoded)\n",
    "decoded_dense2 = keras.layers.Dense(256, activation='relu')(decoded_dense1)\n",
    "decoded_dense3 = keras.layers.Dense(25*25, activation='relu')(decoded_dense2)\n",
    "decoded_reshaped = keras.layers.Reshape((25,25,1))(decoded_dense3)\n",
    "decoded_conv0 = keras.layers.Conv2D(32, (3,3), activation='relu', padding='same')(decoded_reshaped)\n",
    "decoded_upSample0 = keras.layers.UpSampling2D((3,3))(decoded_conv0)\n",
    "decoded_conv1 = keras.layers.Conv2D(16, (3,3), activation='relu', padding='same')(decoded_upSample0)\n",
    "decoded_upSample1 = keras.layers.UpSampling2D((2,2))(decoded_conv1)\n",
    "decoded = keras.layers.Conv2D(1, (3,3), activation='relu', padding='same')(decoded_upSample1)\n",
    "\n",
    "\n",
    "autoencoder = keras.Model(input_img, decoded)"
   ]
  },
  {
   "cell_type": "code",
   "execution_count": 6,
   "metadata": {},
   "outputs": [],
   "source": [
    "# Encoder Model\n",
    "encoder = keras.Model(input_img, encoded)"
   ]
  },
  {
   "cell_type": "code",
   "execution_count": 7,
   "metadata": {},
   "outputs": [],
   "source": [
    "# encoder.compile(optimizer='adam', loss='binary_crossentropy')"
   ]
  },
  {
   "cell_type": "code",
   "execution_count": 8,
   "metadata": {},
   "outputs": [],
   "source": [
    "autoencoder.compile(optimizer='adam', loss=tf.keras.losses.mae)"
   ]
  },
  {
   "cell_type": "code",
   "execution_count": 9,
   "metadata": {},
   "outputs": [
    {
     "name": "stdout",
     "output_type": "stream",
     "text": [
      "Model: \"model\"\n",
      "_________________________________________________________________\n",
      " Layer (type)                Output Shape              Param #   \n",
      "=================================================================\n",
      " input_1 (InputLayer)        [(None, 150, 150, 1)]     0         \n",
      "                                                                 \n",
      " conv2d (Conv2D)             (None, 148, 148, 64)      640       \n",
      "                                                                 \n",
      " max_pooling2d (MaxPooling2D  (None, 74, 74, 64)       0         \n",
      " )                                                               \n",
      "                                                                 \n",
      " conv2d_1 (Conv2D)           (None, 74, 74, 128)       73856     \n",
      "                                                                 \n",
      " max_pooling2d_1 (MaxPooling  (None, 24, 24, 128)      0         \n",
      " 2D)                                                             \n",
      "                                                                 \n",
      " conv2d_2 (Conv2D)           (None, 24, 24, 512)       590336    \n",
      "                                                                 \n",
      " flatten (Flatten)           (None, 294912)            0         \n",
      "                                                                 \n",
      " dense (Dense)               (None, 576)               169869888 \n",
      "                                                                 \n",
      " dense_1 (Dense)             (None, 128)               73856     \n",
      "                                                                 \n",
      " dense_2 (Dense)             (None, 64)                8256      \n",
      "                                                                 \n",
      " dense_3 (Dense)             (None, 32)                2080      \n",
      "                                                                 \n",
      " dense_5 (Dense)             (None, 64)                2112      \n",
      "                                                                 \n",
      " dense_6 (Dense)             (None, 128)               8320      \n",
      "                                                                 \n",
      " dense_7 (Dense)             (None, 625)               80625     \n",
      "                                                                 \n",
      " reshape (Reshape)           (None, 25, 25, 1)         0         \n",
      "                                                                 \n",
      " conv2d_3 (Conv2D)           (None, 25, 25, 512)       5120      \n",
      "                                                                 \n",
      " up_sampling2d (UpSampling2D  (None, 75, 75, 512)      0         \n",
      " )                                                               \n",
      "                                                                 \n",
      " conv2d_4 (Conv2D)           (None, 75, 75, 128)       589952    \n",
      "                                                                 \n",
      " up_sampling2d_1 (UpSampling  (None, 150, 150, 128)    0         \n",
      " 2D)                                                             \n",
      "                                                                 \n",
      "=================================================================\n",
      "Total params: 171,305,041\n",
      "Trainable params: 171,305,041\n",
      "Non-trainable params: 0\n",
      "_________________________________________________________________\n"
     ]
    }
   ],
   "source": [
    "autoencoder.summary()"
   ]
  },
  {
   "cell_type": "code",
   "execution_count": 10,
   "metadata": {},
   "outputs": [],
   "source": [
    "autoencoder.fit(x_train, x_train, epochs=2, shuffle=True)"
   ]
  },
  {
   "cell_type": "code",
   "execution_count": 11,
   "metadata": {},
   "outputs": [],
   "source": [
    "encoded_palms = encoder.predict(x_test)"
   ]
  },
  {
   "cell_type": "code",
   "execution_count": 12,
   "metadata": {},
   "outputs": [
    {
     "data": {
      "text/plain": [
       "array([   0.      , 2185.516   , 2854.9968  ,  434.45908 , 1940.6245  ,\n",
       "       2150.4453  ,    0.      , 2255.9976  ,  666.42694 ,    0.      ,\n",
       "          0.      , 1380.3615  , 1550.857   ,  436.58313 ,  563.3056  ,\n",
       "        899.8952  ,    0.      ,    0.      , 2885.544   ,  286.46417 ,\n",
       "         21.755493,    0.      ,    0.      ,    0.      ,  493.04102 ,\n",
       "        941.0677  , 2786.606   , 2156.8945  ,    0.      ,    0.      ,\n",
       "        346.30478 ,    0.      ], dtype=float32)"
      ]
     },
     "execution_count": 12,
     "metadata": {},
     "output_type": "execute_result"
    }
   ],
   "source": [
    "encoded_palms[1]"
   ]
  },
  {
   "cell_type": "code",
   "execution_count": 20,
   "metadata": {},
   "outputs": [
    {
     "name": "stderr",
     "output_type": "stream",
     "text": [
      "WARNING:absl:Found untraced functions such as _jit_compiled_convolution_op, _jit_compiled_convolution_op, _jit_compiled_convolution_op, _update_step_xla while saving (showing 4 of 4). These functions will not be directly callable after loading.\n"
     ]
    },
    {
     "name": "stdout",
     "output_type": "stream",
     "text": [
      "INFO:tensorflow:Assets written to: E:/allModels/model/00000001/assets\n"
     ]
    },
    {
     "name": "stderr",
     "output_type": "stream",
     "text": [
      "INFO:tensorflow:Assets written to: E:/allModels/model/00000001/assets\n"
     ]
    }
   ],
   "source": [
    "encoder.save('<location>/model/00000001/') # Put the path to the folder where you want to save the model, don't change last 2 section"
   ]
  },
  {
   "cell_type": "code",
   "execution_count": 21,
   "metadata": {},
   "outputs": [],
   "source": [
    "import tarfile\n",
    "import os\n",
    "\n",
    "def make_tarfile(output_filename, source_dir):\n",
    "    with tarfile.open(output_filename, \"w:gz\") as tar:\n",
    "        tar.add(source_dir, arcname=os.path.basename(source_dir))\n",
    "\n",
    "make_tarfile(\"<location>/model.tar.gz\", \"<location>/model/\")"
   ]
  },
  {
   "cell_type": "code",
   "execution_count": null,
   "metadata": {},
   "outputs": [],
   "source": [
    "# from tensorflow.keras.models import model_from_json\n",
    "\n",
    "# # serialize model to json\n",
    "# json_model = encoder.to_json()\n",
    "\n",
    "# # save the model architecture to JSON file\n",
    "# with open('model.json', 'w') as json_file:\n",
    "#     json_file.write(json_model)\n",
    "\n",
    "# # save the trained weights\n",
    "# encoder.save_weights('model.h5')"
   ]
  }
 ],
 "metadata": {
  "kernelspec": {
   "display_name": "palm",
   "language": "python",
   "name": "python3"
  },
  "language_info": {
   "codemirror_mode": {
    "name": "ipython",
    "version": 3
   },
   "file_extension": ".py",
   "mimetype": "text/x-python",
   "name": "python",
   "nbconvert_exporter": "python",
   "pygments_lexer": "ipython3",
   "version": "3.10.10"
  },
  "orig_nbformat": 4
 },
 "nbformat": 4,
 "nbformat_minor": 2
}

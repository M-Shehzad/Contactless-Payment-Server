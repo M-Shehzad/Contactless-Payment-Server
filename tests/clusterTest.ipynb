{
 "cells": [
  {
   "cell_type": "code",
   "execution_count": 1,
   "metadata": {},
   "outputs": [
    {
     "data": {
      "text/plain": [
       "'2.11.0'"
      ]
     },
     "execution_count": 1,
     "metadata": {},
     "output_type": "execute_result"
    }
   ],
   "source": [
    "import tensorflow as tf\n",
    "tf.__version__"
   ]
  },
  {
   "cell_type": "code",
   "execution_count": 9,
   "metadata": {},
   "outputs": [],
   "source": [
    "model = tf.keras.models.load_model('./0000001/')"
   ]
  },
  {
   "cell_type": "code",
   "execution_count": 5,
   "metadata": {},
   "outputs": [
    {
     "data": {
      "text/plain": [
       "keras.engine.functional.Functional"
      ]
     },
     "execution_count": 5,
     "metadata": {},
     "output_type": "execute_result"
    }
   ],
   "source": [
    "type(model)"
   ]
  },
  {
   "cell_type": "code",
   "execution_count": 12,
   "metadata": {},
   "outputs": [],
   "source": [
    "from zipfile import ZipFile\n",
    "import os\n",
    "import cv2\n",
    "import numpy as np\n",
    "\n",
    "# with ZipFile('./drive/MyDrive/Final Year Project/Datasets/testROI.zip', 'r') as zipObj:\n",
    "#    # Extract a specific file from zip file\n",
    "#    zipObj.extractall('./')\n",
    "\n",
    "testfilenames = []\n",
    "images = []\n",
    "for filename in sorted(os.listdir(\"./testROI\")):\n",
    "# for filename in (os.listdir(\"./testROI\")):\n",
    "    testfilenames.append(filename)\n",
    "    # Read image\n",
    "    img = cv2.imread(os.path.join(\"./testROI/\",filename), 0)\n",
    "    \n",
    "    # Append image to list\n",
    "    images.append(img)\n",
    "\n",
    "palm_arrays = np.array(images)"
   ]
  },
  {
   "cell_type": "code",
   "execution_count": 14,
   "metadata": {},
   "outputs": [
    {
     "name": "stdout",
     "output_type": "stream",
     "text": [
      "(30, 150, 150, 1)\n"
     ]
    }
   ],
   "source": [
    "palm_arrays = palm_arrays.astype('float32') / 255.\n",
    "palm_arrays = palm_arrays.reshape(-1, 150, 150, 1)\n",
    "print(palm_arrays.shape)"
   ]
  },
  {
   "cell_type": "code",
   "execution_count": 15,
   "metadata": {},
   "outputs": [
    {
     "name": "stdout",
     "output_type": "stream",
     "text": [
      "1/1 [==============================] - 0s 450ms/step\n"
     ]
    }
   ],
   "source": [
    "tests = model.predict(palm_arrays)"
   ]
  },
  {
   "cell_type": "code",
   "execution_count": 16,
   "metadata": {},
   "outputs": [
    {
     "data": {
      "text/plain": [
       "['026_1.JPG',\n",
       " '026_2.JPG',\n",
       " '026_3.JPG',\n",
       " '026_4.JPG',\n",
       " '026_5.JPG',\n",
       " '041_1.JPG',\n",
       " '041_2.JPG',\n",
       " '041_3.JPG',\n",
       " '041_4.JPG',\n",
       " '041_5.JPG',\n",
       " '096_1.JPG',\n",
       " '096_2.JPG',\n",
       " '096_3.JPG',\n",
       " '096_4.JPG',\n",
       " '096_5.JPG',\n",
       " '114_1.JPG',\n",
       " '114_2.JPG',\n",
       " '114_3.JPG',\n",
       " '114_4.JPG',\n",
       " '114_5.JPG',\n",
       " '121_1.JPG',\n",
       " '121_2.JPG',\n",
       " '121_3.JPG',\n",
       " '121_4.JPG',\n",
       " '121_5.JPG',\n",
       " '143_1.JPG',\n",
       " '143_2.JPG',\n",
       " '143_3.JPG',\n",
       " '143_4.JPG',\n",
       " '143_5.JPG']"
      ]
     },
     "execution_count": 16,
     "metadata": {},
     "output_type": "execute_result"
    }
   ],
   "source": [
    "testfilenames"
   ]
  },
  {
   "cell_type": "code",
   "execution_count": 17,
   "metadata": {},
   "outputs": [],
   "source": [
    "from sklearn.cluster import KMeans"
   ]
  },
  {
   "cell_type": "code",
   "execution_count": 23,
   "metadata": {},
   "outputs": [
    {
     "data": {
      "text/html": [
       "<style>#sk-container-id-2 {color: black;background-color: white;}#sk-container-id-2 pre{padding: 0;}#sk-container-id-2 div.sk-toggleable {background-color: white;}#sk-container-id-2 label.sk-toggleable__label {cursor: pointer;display: block;width: 100%;margin-bottom: 0;padding: 0.3em;box-sizing: border-box;text-align: center;}#sk-container-id-2 label.sk-toggleable__label-arrow:before {content: \"▸\";float: left;margin-right: 0.25em;color: #696969;}#sk-container-id-2 label.sk-toggleable__label-arrow:hover:before {color: black;}#sk-container-id-2 div.sk-estimator:hover label.sk-toggleable__label-arrow:before {color: black;}#sk-container-id-2 div.sk-toggleable__content {max-height: 0;max-width: 0;overflow: hidden;text-align: left;background-color: #f0f8ff;}#sk-container-id-2 div.sk-toggleable__content pre {margin: 0.2em;color: black;border-radius: 0.25em;background-color: #f0f8ff;}#sk-container-id-2 input.sk-toggleable__control:checked~div.sk-toggleable__content {max-height: 200px;max-width: 100%;overflow: auto;}#sk-container-id-2 input.sk-toggleable__control:checked~label.sk-toggleable__label-arrow:before {content: \"▾\";}#sk-container-id-2 div.sk-estimator input.sk-toggleable__control:checked~label.sk-toggleable__label {background-color: #d4ebff;}#sk-container-id-2 div.sk-label input.sk-toggleable__control:checked~label.sk-toggleable__label {background-color: #d4ebff;}#sk-container-id-2 input.sk-hidden--visually {border: 0;clip: rect(1px 1px 1px 1px);clip: rect(1px, 1px, 1px, 1px);height: 1px;margin: -1px;overflow: hidden;padding: 0;position: absolute;width: 1px;}#sk-container-id-2 div.sk-estimator {font-family: monospace;background-color: #f0f8ff;border: 1px dotted black;border-radius: 0.25em;box-sizing: border-box;margin-bottom: 0.5em;}#sk-container-id-2 div.sk-estimator:hover {background-color: #d4ebff;}#sk-container-id-2 div.sk-parallel-item::after {content: \"\";width: 100%;border-bottom: 1px solid gray;flex-grow: 1;}#sk-container-id-2 div.sk-label:hover label.sk-toggleable__label {background-color: #d4ebff;}#sk-container-id-2 div.sk-serial::before {content: \"\";position: absolute;border-left: 1px solid gray;box-sizing: border-box;top: 0;bottom: 0;left: 50%;z-index: 0;}#sk-container-id-2 div.sk-serial {display: flex;flex-direction: column;align-items: center;background-color: white;padding-right: 0.2em;padding-left: 0.2em;position: relative;}#sk-container-id-2 div.sk-item {position: relative;z-index: 1;}#sk-container-id-2 div.sk-parallel {display: flex;align-items: stretch;justify-content: center;background-color: white;position: relative;}#sk-container-id-2 div.sk-item::before, #sk-container-id-2 div.sk-parallel-item::before {content: \"\";position: absolute;border-left: 1px solid gray;box-sizing: border-box;top: 0;bottom: 0;left: 50%;z-index: -1;}#sk-container-id-2 div.sk-parallel-item {display: flex;flex-direction: column;z-index: 1;position: relative;background-color: white;}#sk-container-id-2 div.sk-parallel-item:first-child::after {align-self: flex-end;width: 50%;}#sk-container-id-2 div.sk-parallel-item:last-child::after {align-self: flex-start;width: 50%;}#sk-container-id-2 div.sk-parallel-item:only-child::after {width: 0;}#sk-container-id-2 div.sk-dashed-wrapped {border: 1px dashed gray;margin: 0 0.4em 0.5em 0.4em;box-sizing: border-box;padding-bottom: 0.4em;background-color: white;}#sk-container-id-2 div.sk-label label {font-family: monospace;font-weight: bold;display: inline-block;line-height: 1.2em;}#sk-container-id-2 div.sk-label-container {text-align: center;}#sk-container-id-2 div.sk-container {/* jupyter's `normalize.less` sets `[hidden] { display: none; }` but bootstrap.min.css set `[hidden] { display: none !important; }` so we also need the `!important` here to be able to override the default hidden behavior on the sphinx rendered scikit-learn.org. See: https://github.com/scikit-learn/scikit-learn/issues/21755 */display: inline-block !important;position: relative;}#sk-container-id-2 div.sk-text-repr-fallback {display: none;}</style><div id=\"sk-container-id-2\" class=\"sk-top-container\"><div class=\"sk-text-repr-fallback\"><pre>KMeans(n_clusters=6, n_init=6)</pre><b>In a Jupyter environment, please rerun this cell to show the HTML representation or trust the notebook. <br />On GitHub, the HTML representation is unable to render, please try loading this page with nbviewer.org.</b></div><div class=\"sk-container\" hidden><div class=\"sk-item\"><div class=\"sk-estimator sk-toggleable\"><input class=\"sk-toggleable__control sk-hidden--visually\" id=\"sk-estimator-id-2\" type=\"checkbox\" checked><label for=\"sk-estimator-id-2\" class=\"sk-toggleable__label sk-toggleable__label-arrow\">KMeans</label><div class=\"sk-toggleable__content\"><pre>KMeans(n_clusters=6, n_init=6)</pre></div></div></div></div></div>"
      ],
      "text/plain": [
       "KMeans(n_clusters=6, n_init=6)"
      ]
     },
     "execution_count": 23,
     "metadata": {},
     "output_type": "execute_result"
    }
   ],
   "source": [
    "kmeans = KMeans(n_clusters=6, n_init=6)\n",
    "kmeans.fit(tests)"
   ]
  },
  {
   "cell_type": "code",
   "execution_count": 24,
   "metadata": {},
   "outputs": [
    {
     "name": "stdout",
     "output_type": "stream",
     "text": [
      "image:  026_1.JPG , cluster:  2\n",
      "image:  026_2.JPG , cluster:  2\n",
      "image:  026_3.JPG , cluster:  3\n",
      "image:  026_4.JPG , cluster:  3\n",
      "image:  026_5.JPG , cluster:  3\n",
      "image:  041_1.JPG , cluster:  2\n",
      "image:  041_2.JPG , cluster:  0\n",
      "image:  041_3.JPG , cluster:  2\n",
      "image:  041_4.JPG , cluster:  0\n",
      "image:  041_5.JPG , cluster:  2\n",
      "image:  096_1.JPG , cluster:  0\n",
      "image:  096_2.JPG , cluster:  3\n",
      "image:  096_3.JPG , cluster:  0\n",
      "image:  096_4.JPG , cluster:  3\n",
      "image:  096_5.JPG , cluster:  3\n",
      "image:  114_1.JPG , cluster:  5\n",
      "image:  114_2.JPG , cluster:  1\n",
      "image:  114_3.JPG , cluster:  1\n",
      "image:  114_4.JPG , cluster:  1\n",
      "image:  114_5.JPG , cluster:  1\n",
      "image:  121_1.JPG , cluster:  4\n",
      "image:  121_2.JPG , cluster:  4\n",
      "image:  121_3.JPG , cluster:  4\n",
      "image:  121_4.JPG , cluster:  4\n",
      "image:  121_5.JPG , cluster:  4\n",
      "image:  143_1.JPG , cluster:  1\n",
      "image:  143_2.JPG , cluster:  5\n",
      "image:  143_3.JPG , cluster:  2\n",
      "image:  143_4.JPG , cluster:  2\n",
      "image:  143_5.JPG , cluster:  2\n"
     ]
    }
   ],
   "source": [
    "for i in range(len(testfilenames)):\n",
    "  print(\"image: \", testfilenames[i], \", cluster: \", kmeans.labels_[i])"
   ]
  },
  {
   "cell_type": "code",
   "execution_count": 25,
   "metadata": {},
   "outputs": [],
   "source": [
    "#groups images by whom it belongs to\n",
    "from collections import defaultdict\n",
    "filename_groups = defaultdict(list)\n",
    "for filename in testfilenames:\n",
    "    prefix = filename.split('_')[0]\n",
    "    filename_groups[prefix].append(filename)"
   ]
  },
  {
   "cell_type": "code",
   "execution_count": 26,
   "metadata": {},
   "outputs": [
    {
     "data": {
      "text/plain": [
       "defaultdict(list,\n",
       "            {'026': ['026_1.JPG',\n",
       "              '026_2.JPG',\n",
       "              '026_3.JPG',\n",
       "              '026_4.JPG',\n",
       "              '026_5.JPG'],\n",
       "             '041': ['041_1.JPG',\n",
       "              '041_2.JPG',\n",
       "              '041_3.JPG',\n",
       "              '041_4.JPG',\n",
       "              '041_5.JPG'],\n",
       "             '096': ['096_1.JPG',\n",
       "              '096_2.JPG',\n",
       "              '096_3.JPG',\n",
       "              '096_4.JPG',\n",
       "              '096_5.JPG'],\n",
       "             '114': ['114_1.JPG',\n",
       "              '114_2.JPG',\n",
       "              '114_3.JPG',\n",
       "              '114_4.JPG',\n",
       "              '114_5.JPG'],\n",
       "             '121': ['121_1.JPG',\n",
       "              '121_2.JPG',\n",
       "              '121_3.JPG',\n",
       "              '121_4.JPG',\n",
       "              '121_5.JPG'],\n",
       "             '143': ['143_1.JPG',\n",
       "              '143_2.JPG',\n",
       "              '143_3.JPG',\n",
       "              '143_4.JPG',\n",
       "              '143_5.JPG']})"
      ]
     },
     "execution_count": 26,
     "metadata": {},
     "output_type": "execute_result"
    }
   ],
   "source": [
    "filename_groups"
   ]
  },
  {
   "cell_type": "code",
   "execution_count": 27,
   "metadata": {},
   "outputs": [
    {
     "data": {
      "text/plain": [
       "{'026': [2, 2, 3, 3, 3],\n",
       " '041': [2, 0, 2, 0, 2],\n",
       " '096': [0, 3, 0, 3, 3],\n",
       " '114': [5, 1, 1, 1, 1],\n",
       " '121': [4, 4, 4, 4, 4],\n",
       " '143': [1, 5, 2, 2, 2]}"
      ]
     },
     "execution_count": 27,
     "metadata": {},
     "output_type": "execute_result"
    }
   ],
   "source": [
    "#groups images by cluster (by co-pilot)\n",
    "group_clusters = {}\n",
    "for prefix,filenames in filename_groups.items():\n",
    "    clusters = [kmeans.labels_[testfilenames.index(filename)] for filename in filenames]\n",
    "    group_clusters[prefix] = clusters\n",
    "group_clusters"
   ]
  },
  {
   "cell_type": "code",
   "execution_count": 72,
   "metadata": {},
   "outputs": [],
   "source": [
    "#finds the most images belonging to each cluster (by co-pilot)\n",
    "clusters_max = {}\n",
    "for prefix, cluster_labels in group_clusters.items():\n",
    "    most_common_cluster = max(set(cluster_labels), key=cluster_labels.count)\n",
    "    clusters_max[prefix] = most_common_cluster"
   ]
  },
  {
   "cell_type": "code",
   "execution_count": 70,
   "metadata": {},
   "outputs": [
    {
     "data": {
      "text/plain": [
       "{'004': 0, '029': 1, '056': 2}"
      ]
     },
     "execution_count": 70,
     "metadata": {},
     "output_type": "execute_result"
    }
   ],
   "source": [
    "clusters_max"
   ]
  },
  {
   "cell_type": "code",
   "execution_count": 65,
   "metadata": {},
   "outputs": [],
   "source": [
    "#evaluates to true if the image belongs to the cluster with the most images of its type\n",
    "evaluations = []\n",
    "for filename in testfilenames:\n",
    "    prefix = filename.split(\"_\")[0]\n",
    "    index = testfilenames.index(filename)\n",
    "    evaluation = kmeans.labels_[index] == clusters_max[prefix]\n",
    "    evaluations.append(evaluation)"
   ]
  },
  {
   "cell_type": "code",
   "execution_count": 62,
   "metadata": {},
   "outputs": [
    {
     "data": {
      "text/plain": [
       "0.9333333333333333"
      ]
     },
     "execution_count": 62,
     "metadata": {},
     "output_type": "execute_result"
    }
   ],
   "source": [
    "#percentage of correct predictions\n",
    "sum(evaluations) / len(evaluations)"
   ]
  },
  {
   "attachments": {},
   "cell_type": "markdown",
   "metadata": {},
   "source": [
    "________________________"
   ]
  },
  {
   "attachments": {},
   "cell_type": "markdown",
   "metadata": {},
   "source": [
    "Distance metrics"
   ]
  },
  {
   "cell_type": "code",
   "execution_count": 80,
   "metadata": {},
   "outputs": [],
   "source": [
    "from PIL import Image\n",
    "import cv2\n",
    "import os\n",
    "from scipy.spatial import distance"
   ]
  },
  {
   "cell_type": "code",
   "execution_count": 94,
   "metadata": {},
   "outputs": [],
   "source": [
    "def predictor_of_image(image):\n",
    "    np_image = np.array(image.astype('float32')/255.0)\n",
    "    gray = cv2.cvtColor(np_image, cv2.COLOR_BGR2GRAY)\n",
    "    np_image = gray.reshape(-1,150,150,1)\n",
    "    return model.predict(np_image)\n"
   ]
  },
  {
   "cell_type": "code",
   "execution_count": 107,
   "metadata": {},
   "outputs": [],
   "source": [
    "images = []\n",
    "for filename in sorted(os.listdir(\"./testROI\")):\n",
    "    img = cv2.imread(os.path.join(\"./testROI/\",filename))\n",
    "    images.append(img)"
   ]
  },
  {
   "cell_type": "code",
   "execution_count": 108,
   "metadata": {},
   "outputs": [
    {
     "name": "stdout",
     "output_type": "stream",
     "text": [
      "1/1 [==============================] - 0s 40ms/step\n",
      "1/1 [==============================] - 0s 37ms/step\n",
      "1/1 [==============================] - 0s 34ms/step\n",
      "1/1 [==============================] - 0s 29ms/step\n",
      "1/1 [==============================] - 0s 31ms/step\n",
      "1/1 [==============================] - 0s 32ms/step\n",
      "1/1 [==============================] - 0s 32ms/step\n",
      "1/1 [==============================] - 0s 30ms/step\n",
      "1/1 [==============================] - 0s 27ms/step\n",
      "1/1 [==============================] - 0s 34ms/step\n",
      "1/1 [==============================] - 0s 34ms/step\n",
      "1/1 [==============================] - 0s 31ms/step\n",
      "1/1 [==============================] - 0s 40ms/step\n",
      "1/1 [==============================] - 0s 33ms/step\n",
      "1/1 [==============================] - 0s 28ms/step\n",
      "1/1 [==============================] - 0s 40ms/step\n",
      "1/1 [==============================] - 0s 32ms/step\n",
      "1/1 [==============================] - 0s 31ms/step\n",
      "1/1 [==============================] - 0s 31ms/step\n",
      "1/1 [==============================] - 0s 32ms/step\n",
      "1/1 [==============================] - 0s 28ms/step\n",
      "1/1 [==============================] - 0s 34ms/step\n",
      "1/1 [==============================] - 0s 33ms/step\n",
      "1/1 [==============================] - 0s 30ms/step\n",
      "1/1 [==============================] - 0s 30ms/step\n",
      "1/1 [==============================] - 0s 31ms/step\n",
      "1/1 [==============================] - 0s 32ms/step\n",
      "1/1 [==============================] - 0s 28ms/step\n",
      "1/1 [==============================] - 0s 31ms/step\n",
      "1/1 [==============================] - 0s 30ms/step\n"
     ]
    }
   ],
   "source": [
    "vectors = []\n",
    "for img in images:\n",
    "    vector = predictor_of_image(img)\n",
    "    vectors.append(vector[0])"
   ]
  },
  {
   "cell_type": "code",
   "execution_count": 109,
   "metadata": {},
   "outputs": [],
   "source": [
    "from scipy.spatial import distance"
   ]
  },
  {
   "cell_type": "code",
   "execution_count": 110,
   "metadata": {},
   "outputs": [],
   "source": [
    "mat = []\n",
    "for i in range(len(vectors)):\n",
    "        row = []\n",
    "        for j in range(len(vectors)):\n",
    "                row.append(distance.euclidean(vectors[i], vectors[j]))\n",
    "        mat.append(row)\n"
   ]
  },
  {
   "cell_type": "code",
   "execution_count": 111,
   "metadata": {},
   "outputs": [],
   "source": [
    "mat = np.array(mat)"
   ]
  },
  {
   "cell_type": "code",
   "execution_count": 112,
   "metadata": {},
   "outputs": [],
   "source": [
    "import seaborn as sns\n"
   ]
  },
  {
   "cell_type": "code",
   "execution_count": 113,
   "metadata": {},
   "outputs": [
    {
     "data": {
      "text/plain": [
       "<Axes: >"
      ]
     },
     "execution_count": 113,
     "metadata": {},
     "output_type": "execute_result"
    },
    {
     "data": {
      "image/png": "[encoded data removed]",
      "text/plain": [
       "<Figure size 640x480 with 2 Axes>"
      ]
     },
     "metadata": {},
     "output_type": "display_data"
    }
   ],
   "source": [
    "sns.heatmap(mat, cmap=\"YlGnBu\")"
   ]
  },
  {
   "cell_type": "code",
   "execution_count": null,
   "metadata": {},
   "outputs": [],
   "source": []
  }
 ],
 "metadata": {
  "kernelspec": {
   "display_name": "Python 3",
   "language": "python",
   "name": "python3"
  },
  "language_info": {
   "codemirror_mode": {
    "name": "ipython",
    "version": 3
   },
   "file_extension": ".py",
   "mimetype": "text/x-python",
   "name": "python",
   "nbconvert_exporter": "python",
   "pygments_lexer": "ipython3",
   "version": "3.9.6"
  },
  "orig_nbformat": 4
 },
 "nbformat": 4,
 "nbformat_minor": 2
}

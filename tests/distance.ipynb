{
 "cells": [
  {
   "attachments": {},
   "cell_type": "markdown",
   "metadata": {},
   "source": [
    "Distance algorithms\n"
   ]
  },
  {
   "cell_type": "code",
   "execution_count": null,
   "metadata": {},
   "outputs": [],
   "source": [
    "from scipy.spatial import distance \n",
    "import numpy as np\n",
    "\n",
    "# Euclidean distance\n",
    "a = [1, 2, 3]\n",
    "b = [4, 5, 6]\n",
    "dst = distance.euclidean(a, b)\n",
    "\n",
    "# Manhattan distance\n",
    "dst = distance.cityblock(a, b)\n",
    "\n",
    "# Mahalanobis distance\n",
    "dst = distance.mahalanobis(a, b, np.cov(a, b))\n",
    "\n",
    "# Cosine distance\n",
    "dst = distance.cosine(a, b)\n",
    "\n",
    "# Jaccard distance\n",
    "dst = distance.jaccard(a, b)\n",
    "\n",
    "# Hamming distance\n",
    "dst = distance.hamming(a, b)\n",
    "\n",
    "# Chebyshev distance\n",
    "dst = distance.chebyshev(a, b)\n",
    "\n",
    "# Minkowski distance\n",
    "dst = distance.minkowski(a, b, 3)\n",
    "\n",
    "# Bray-Curtis distance\n",
    "dst = distance.braycurtis(a, b)\n",
    "\n",
    "# Canberra distance\n",
    "dst = distance.canberra(a, b)\n",
    "\n",
    "# Correlation distance\n",
    "dst = distance.correlation(a, b)\n",
    "\n",
    "# Chi-square distance\n",
    "dst = distance.chisquare(a, b)\n",
    "\n",
    "# Kullback-Leibler divergence\n",
    "dst = distance.kl_div(a, b)\n",
    "\n",
    "# Hellinger distance\n",
    "dst = distance.hellinger(a, b)\n",
    "\n"
   ]
  }
 ],
 "metadata": {
  "kernelspec": {
   "display_name": "base",
   "language": "python",
   "name": "python3"
  },
  "language_info": {
   "name": "python",
   "version": "3.9.7"
  },
  "orig_nbformat": 4
 },
 "nbformat": 4,
 "nbformat_minor": 2
}
